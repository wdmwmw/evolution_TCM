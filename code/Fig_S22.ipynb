{
 "cells": [
  {
   "cell_type": "code",
   "execution_count": null,
   "metadata": {},
   "outputs": [],
   "source": [
    "import pandas as pd"
   ]
  },
  {
   "cell_type": "code",
   "execution_count": null,
   "metadata": {},
   "outputs": [],
   "source": [
    "df=pd.read_csv('D:Fig_S22/stability.csv',encoding='gbk')\n",
    "time=list(df['time'])\n",
    "total_core=list(df['total_core'])\n",
    "common_core=list(df['common_core'])\n",
    "ratio=list(df['ratio'])\n",
    "fig = plt.figure(figsize=(8,5))\n",
    "plt.rcParams['font.sans-serif']=['SimHei']\n",
    "plt.rcParams['axes.unicode_minus'] = False\n",
    "\n",
    "ax1=plt.subplot(1,1,1)\n",
    "ax1.plot(time,total_core,c='green',linestyle='--',marker='o',linewidth=0.8,\n",
    "          label='number of core components in PCCS')\n",
    "ax1.plot(time,common_core,c='blue',linestyle='--',marker='o',linewidth=0.8,\n",
    "          label='common number of core components between PCCS and FCCS')\n",
    "ax1.set_xlabel('time',fontsize=15)\n",
    "ax1.set_ylabel('number of core components',fontsize=15)\n",
    "ax1.set_xticklabels(time, rotation=90,fontsize=15)\n",
    "ax1.set_ylim([-60,560])\n",
    "ax1.set_yticklabels(['{:.0f}'.format(0),\n",
    "                     '{:.0f}'.format(0),\n",
    "                     '{:.0f}'.format(100),\n",
    "                     '{:.0f}'.format(200),\n",
    "                     '{:.0f}'.format(300),\n",
    "                     '{:.0f}'.format(400),\n",
    "                     '{:.0f}'.format(500)], fontsize=15)\n",
    "ax2=ax1.twinx()\n",
    "ax2.plot(time,ratio,c='red',linestyle='--',marker='o',linewidth=0.8,\n",
    "          label='stability of the Core')\n",
    "ax2.set_ylabel('stability of Core',fontsize=15)\n",
    "ax2.set_ylim([-0.05,1.05])\n",
    "ax2.set_yticklabels(['{:.1f}'.format(0.0),\n",
    "                     '{:.1f}'.format(0.0),\n",
    "                     '{:.1f}'.format(0.2),\n",
    "                     '{:.1f}'.format(0.4),\n",
    "                     '{:.1f}'.format(0.6),\n",
    "                     '{:.1f}'.format(0.8),'{:.1f}'.format(1.0)], fontsize=15)\n",
    "handles1,labels1=ax1.get_legend_handles_labels()\n",
    "handles2,labels2=ax2.get_legend_handles_labels()\n",
    "font1 = { 'size': 13 }\n",
    "plt.legend(handles1+handles2,labels1+labels2,loc='lower center',bbox_to_anchor=(0.5, -0.58),ncol=1,prop=font1 )\n",
    "plt.subplots_adjust(left=None, bottom=None, right=None, top=None, wspace=0.3, hspace=0.2)\n",
    "plt.savefig('D:Fig_S22/stability.TIFF',dpi=300,bbox_inches='tight')\n",
    "plt.show()\n"
   ]
  }
 ],
 "metadata": {
  "kernelspec": {
   "display_name": "Python 3",
   "language": "python",
   "name": "python3"
  },
  "language_info": {
   "codemirror_mode": {
    "name": "ipython",
    "version": 3
   },
   "file_extension": ".py",
   "mimetype": "text/x-python",
   "name": "python",
   "nbconvert_exporter": "python",
   "pygments_lexer": "ipython3",
   "version": "3.8.3"
  }
 },
 "nbformat": 4,
 "nbformat_minor": 4
}
